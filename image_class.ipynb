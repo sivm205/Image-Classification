{
 "cells": [
  {
   "cell_type": "markdown",
   "metadata": {},
   "source": [
    "Image Classification : Daog vs Cat "
   ]
  },
  {
   "cell_type": "code",
   "execution_count": 2,
   "metadata": {},
   "outputs": [],
   "source": [
    "#https://www.kaggle.com/datasets/salader/dogs-vs-cats\n",
    "#data set link, from here it can be download,it has two folder one is train dataset and other one is test data set\n",
    "#both this folder contain dogs and cats images "
   ]
  },
  {
   "cell_type": "code",
   "execution_count": 3,
   "metadata": {},
   "outputs": [],
   "source": [
    "#importing necessary libraries\n",
    "import pandas as pd \n",
    "import matplotlib.pyplot as plt \n",
    "import tensorflow as tf \n",
    "from keras import Sequential \n",
    "from tensorflow import  keras\n",
    "from keras.layers import *\n",
    "# (Dense,Conv2D,MaxPooling2D,Flatten,BatchNormalization,Dropout)"
   ]
  },
  {
   "cell_type": "code",
   "execution_count": 4,
   "metadata": {},
   "outputs": [
    {
     "name": "stdout",
     "output_type": "stream",
     "text": [
      "Found 20000 files belonging to 2 classes.\n",
      "Found 5000 files belonging to 2 classes.\n"
     ]
    }
   ],
   "source": [
    "# generators\n",
    "#to make it more efficient and not make it more complicate for the hardware, we will create a batch dataset \n",
    "#for training batch\n",
    "\n",
    "df_train_batch =  keras.utils.image_dataset_from_directory(directory='D:/Programs/python/Data_Science/Image classification/train' ,\n",
    "                                                                labels='inferred',label_mode='int',batch_size=32,image_size=(256,256))\n",
    "\n",
    "#for test batch\n",
    "df_test_batch = keras.utils.image_dataset_from_directory(directory='D:/Programs/python/Data_Science/Image classification/test', label_mode='int'\n",
    "                                                           ,labels='inferred' ,batch_size= 32,image_size=(256,256))\n",
    "\n"
   ]
  },
  {
   "cell_type": "code",
   "execution_count": 5,
   "metadata": {},
   "outputs": [],
   "source": [
    "#training dataset contain total 20000 and test dataset contain total 5000 files"
   ]
  },
  {
   "cell_type": "code",
   "execution_count": 6,
   "metadata": {},
   "outputs": [],
   "source": [
    "#normalising the dataset\n",
    "def process(image, label):\n",
    "    image = tf.cast(image/255. ,tf.float32)\n",
    "    return image,label \n",
    "\n",
    "train_ds = df_train_batch.map(process)\n",
    "test_ds = df_test_batch.map(process)"
   ]
  },
  {
   "cell_type": "code",
   "execution_count": 12,
   "metadata": {},
   "outputs": [],
   "source": [
    "#CNN architechture\n",
    "#in this first layer will contain 32 filter, 2nd filter contain 64 filter and 3rd will contain 128 filter\n",
    "\n",
    "model = Sequential()\n",
    "#first layer of cnn that contain 32 filter along with pooling layer\n",
    "model.add(Conv2D(32,kernel_size=(3,3),padding='valid',activation='relu',input_shape=(256,256,3)))\n",
    "model.add(MaxPooling2D(pool_size=(2,2), strides=2,padding='valid'))\n",
    "\n",
    "#second layer\n",
    "model.add(Conv2D(64,kernel_size=(3,3),padding='valid',activation='relu'))\n",
    "model.add(MaxPooling2D(pool_size=(2,2), strides=2,padding='valid'))\n",
    "\n",
    "#third layer\n",
    "model.add(Conv2D(128,kernel_size=(3,3),padding='valid',activation='relu'))\n",
    "model.add(MaxPooling2D(pool_size=(2,2), strides=2,padding='valid'))\n",
    "\n",
    "\n",
    "model.add(Flatten())\n",
    "\n",
    "model.add(Dense(128,activation='relu'))\n",
    "model.add(Dense(64,activation='relu'))\n",
    "model.add(Dense(1,activation='sigmoid'))"
   ]
  },
  {
   "cell_type": "code",
   "execution_count": 13,
   "metadata": {},
   "outputs": [
    {
     "name": "stdout",
     "output_type": "stream",
     "text": [
      "Model: \"sequential_1\"\n",
      "_________________________________________________________________\n",
      "Layer (type)                 Output Shape              Param #   \n",
      "=================================================================\n",
      "conv2d_3 (Conv2D)            (None, 254, 254, 32)      896       \n",
      "_________________________________________________________________\n",
      "max_pooling2d_3 (MaxPooling2 (None, 127, 127, 32)      0         \n",
      "_________________________________________________________________\n",
      "conv2d_4 (Conv2D)            (None, 125, 125, 64)      18496     \n",
      "_________________________________________________________________\n",
      "max_pooling2d_4 (MaxPooling2 (None, 62, 62, 64)        0         \n",
      "_________________________________________________________________\n",
      "conv2d_5 (Conv2D)            (None, 60, 60, 128)       73856     \n",
      "_________________________________________________________________\n",
      "max_pooling2d_5 (MaxPooling2 (None, 30, 30, 128)       0         \n",
      "_________________________________________________________________\n",
      "flatten_1 (Flatten)          (None, 115200)            0         \n",
      "_________________________________________________________________\n",
      "dense_3 (Dense)              (None, 128)               14745728  \n",
      "_________________________________________________________________\n",
      "dense_4 (Dense)              (None, 64)                8256      \n",
      "_________________________________________________________________\n",
      "dense_5 (Dense)              (None, 1)                 65        \n",
      "=================================================================\n",
      "Total params: 14,847,297\n",
      "Trainable params: 14,847,297\n",
      "Non-trainable params: 0\n",
      "_________________________________________________________________\n"
     ]
    }
   ],
   "source": [
    "model.summary()"
   ]
  },
  {
   "cell_type": "code",
   "execution_count": 14,
   "metadata": {},
   "outputs": [],
   "source": [
    "model.compile(optimizer='adam',loss='binary_crossentropy', metrics=['accuracy'])\n"
   ]
  },
  {
   "cell_type": "code",
   "execution_count": 15,
   "metadata": {},
   "outputs": [
    {
     "name": "stdout",
     "output_type": "stream",
     "text": [
      "Epoch 1/10\n",
      "625/625 [==============================] - 1767s 3s/step - loss: 0.5891 - accuracy: 0.6745 - val_loss: 0.5037 - val_accuracy: 0.7636\n",
      "Epoch 2/10\n",
      "625/625 [==============================] - 1717s 3s/step - loss: 0.4569 - accuracy: 0.7814 - val_loss: 0.4294 - val_accuracy: 0.7978\n",
      "Epoch 3/10\n",
      "625/625 [==============================] - 1822s 3s/step - loss: 0.3572 - accuracy: 0.8388 - val_loss: 0.4730 - val_accuracy: 0.7942\n",
      "Epoch 4/10\n",
      "625/625 [==============================] - 2489s 4s/step - loss: 0.2469 - accuracy: 0.8975 - val_loss: 0.5464 - val_accuracy: 0.8058\n",
      "Epoch 5/10\n",
      "625/625 [==============================] - 17645s 28s/step - loss: 0.1433 - accuracy: 0.9440 - val_loss: 0.7725 - val_accuracy: 0.7952\n",
      "Epoch 6/10\n",
      "625/625 [==============================] - 1749s 3s/step - loss: 0.0864 - accuracy: 0.9670 - val_loss: 0.9790 - val_accuracy: 0.7896\n",
      "Epoch 7/10\n",
      "625/625 [==============================] - 1638s 3s/step - loss: 0.0664 - accuracy: 0.9768 - val_loss: 0.9009 - val_accuracy: 0.7936\n",
      "Epoch 8/10\n",
      "625/625 [==============================] - 1662s 3s/step - loss: 0.0532 - accuracy: 0.9818 - val_loss: 0.9490 - val_accuracy: 0.7924\n",
      "Epoch 9/10\n",
      "625/625 [==============================] - 1797s 3s/step - loss: 0.0334 - accuracy: 0.9894 - val_loss: 1.1885 - val_accuracy: 0.7852\n",
      "Epoch 10/10\n",
      "625/625 [==============================] - 1785s 3s/step - loss: 0.0323 - accuracy: 0.9896 - val_loss: 1.1067 - val_accuracy: 0.7768\n"
     ]
    },
    {
     "data": {
      "text/plain": [
       "<keras.callbacks.History at 0x2af821c99d0>"
      ]
     },
     "execution_count": 15,
     "metadata": {},
     "output_type": "execute_result"
    }
   ],
   "source": [
    "history_model  = model.fit(train_ds,epochs=10,validation_data=test_ds)\n",
    "history_model"
   ]
  },
  {
   "cell_type": "code",
   "execution_count": 40,
   "metadata": {},
   "outputs": [],
   "source": [
    "#saving the model for the future preferences\n",
    "model.save(\"classification_model.h5\")"
   ]
  },
  {
   "cell_type": "code",
   "execution_count": 41,
   "metadata": {},
   "outputs": [
    {
     "name": "stdout",
     "output_type": "stream",
     "text": [
      "Model: \"sequential_1\"\n",
      "_________________________________________________________________\n",
      "Layer (type)                 Output Shape              Param #   \n",
      "=================================================================\n",
      "conv2d_3 (Conv2D)            (None, 254, 254, 32)      896       \n",
      "_________________________________________________________________\n",
      "max_pooling2d_3 (MaxPooling2 (None, 127, 127, 32)      0         \n",
      "_________________________________________________________________\n",
      "conv2d_4 (Conv2D)            (None, 125, 125, 64)      18496     \n",
      "_________________________________________________________________\n",
      "max_pooling2d_4 (MaxPooling2 (None, 62, 62, 64)        0         \n",
      "_________________________________________________________________\n",
      "conv2d_5 (Conv2D)            (None, 60, 60, 128)       73856     \n",
      "_________________________________________________________________\n",
      "max_pooling2d_5 (MaxPooling2 (None, 30, 30, 128)       0         \n",
      "_________________________________________________________________\n",
      "flatten_1 (Flatten)          (None, 115200)            0         \n",
      "_________________________________________________________________\n",
      "dense_3 (Dense)              (None, 128)               14745728  \n",
      "_________________________________________________________________\n",
      "dense_4 (Dense)              (None, 64)                8256      \n",
      "_________________________________________________________________\n",
      "dense_5 (Dense)              (None, 1)                 65        \n",
      "=================================================================\n",
      "Total params: 14,847,297\n",
      "Trainable params: 14,847,297\n",
      "Non-trainable params: 0\n",
      "_________________________________________________________________\n"
     ]
    }
   ],
   "source": [
    "from keras.models import load_model\n",
    "model.summary()"
   ]
  },
  {
   "cell_type": "code",
   "execution_count": 42,
   "metadata": {},
   "outputs": [
    {
     "name": "stdout",
     "output_type": "stream",
     "text": [
      "file loaded successfully\n"
     ]
    }
   ],
   "source": [
    "train_model = load_model('classification_model.h5')\n",
    "train_model\n",
    "print(\"file loaded successfully\")"
   ]
  },
  {
   "cell_type": "code",
   "execution_count": 51,
   "metadata": {},
   "outputs": [
    {
     "data": {
      "text/plain": [
       "(140, 134, 3)"
      ]
     },
     "execution_count": 51,
     "metadata": {},
     "output_type": "execute_result"
    }
   ],
   "source": [
    "#prediction\n",
    "import cv2\n",
    "load_img = cv2.imread('cat.jpeg')\n",
    "load_img.shape"
   ]
  },
  {
   "cell_type": "code",
   "execution_count": 52,
   "metadata": {},
   "outputs": [
    {
     "data": {
      "text/plain": [
       "<matplotlib.image.AxesImage at 0x2af886016d0>"
      ]
     },
     "execution_count": 52,
     "metadata": {},
     "output_type": "execute_result"
    },
    {
     "data": {
      "image/png": "[encoded data removed]",
      "text/plain": [
       "<Figure size 432x288 with 1 Axes>"
      ]
     },
     "metadata": {
      "needs_background": "light"
     },
     "output_type": "display_data"
    }
   ],
   "source": [
    "plt.imshow(load_img)"
   ]
  },
  {
   "cell_type": "code",
   "execution_count": 55,
   "metadata": {},
   "outputs": [
    {
     "data": {
      "text/plain": [
       "(256, 256, 3)"
      ]
     },
     "execution_count": 55,
     "metadata": {},
     "output_type": "execute_result"
    }
   ],
   "source": [
    "img = cv2.resize(load_img, (256,256))\n",
    "img.shape"
   ]
  },
  {
   "cell_type": "code",
   "execution_count": 56,
   "metadata": {},
   "outputs": [
    {
     "data": {
      "text/plain": [
       "(1, 256, 256, 3)"
      ]
     },
     "execution_count": 56,
     "metadata": {},
     "output_type": "execute_result"
    }
   ],
   "source": [
    "#expanding dimension\n",
    "test_img = img.reshape(1,256,256,3)\n",
    "test_img.shape"
   ]
  },
  {
   "cell_type": "code",
   "execution_count": 57,
   "metadata": {},
   "outputs": [
    {
     "data": {
      "text/plain": [
       "array([[0.]], dtype=float32)"
      ]
     },
     "execution_count": 57,
     "metadata": {},
     "output_type": "execute_result"
    }
   ],
   "source": [
    "train_model.predict(test_img)\n",
    "#here zero signifies as cat "
   ]
  },
  {
   "cell_type": "code",
   "execution_count": 63,
   "metadata": {},
   "outputs": [
    {
     "name": "stdout",
     "output_type": "stream",
     "text": [
      "Predicted images is Cat \n"
     ]
    }
   ],
   "source": [
    "def predict_model(image ):\n",
    "    if train_model.predict(image)==[0.]:\n",
    "        print(\"Predicted images is Cat \")\n",
    "    else:\n",
    "        print(\"Predicted image is dog\")\n",
    "\n",
    "\n",
    "predict_model(test_img)     "
   ]
  },
  {
   "cell_type": "code",
   "execution_count": 60,
   "metadata": {},
   "outputs": [
    {
     "data": {
      "text/plain": [
       "(129, 102, 3)"
      ]
     },
     "execution_count": 60,
     "metadata": {},
     "output_type": "execute_result"
    }
   ],
   "source": [
    "dog = cv2.imread('dog.jpeg')\n",
    "dog.shape"
   ]
  },
  {
   "cell_type": "code",
   "execution_count": 61,
   "metadata": {},
   "outputs": [
    {
     "data": {
      "text/plain": [
       "(1, 256, 256, 3)"
      ]
     },
     "execution_count": 61,
     "metadata": {},
     "output_type": "execute_result"
    }
   ],
   "source": [
    "dog = cv2.resize(dog,(256,256))\n",
    "dog = dog.reshape(1,256,256,3)\n",
    "dog.shape"
   ]
  },
  {
   "cell_type": "code",
   "execution_count": 64,
   "metadata": {},
   "outputs": [
    {
     "name": "stdout",
     "output_type": "stream",
     "text": [
      "Predicted image is dog\n"
     ]
    }
   ],
   "source": [
    "predict_model(dog)"
   ]
  },
  {
   "cell_type": "code",
   "execution_count": 68,
   "metadata": {},
   "outputs": [
    {
     "name": "stdout",
     "output_type": "stream",
     "text": [
      "157/157 [==============================] - 113s 703ms/step - loss: 370.5862 - accuracy: 0.7042\n"
     ]
    },
    {
     "data": {
      "text/plain": [
       "[370.5862121582031, 0.704200029373169]"
      ]
     },
     "execution_count": 68,
     "metadata": {},
     "output_type": "execute_result"
    }
   ],
   "source": [
    "train_model.evaluate(df_test_batch)"
   ]
  }
 ],
 "metadata": {
  "kernelspec": {
   "display_name": "Python 3.9.6 64-bit",
   "language": "python",
   "name": "python3"
  },
  "language_info": {
   "codemirror_mode": {
    "name": "ipython",
    "version": 3
   },
   "file_extension": ".py",
   "mimetype": "text/x-python",
   "name": "python",
   "nbconvert_exporter": "python",
   "pygments_lexer": "ipython3",
   "version": "3.9.6"
  },
  "orig_nbformat": 4,
  "vscode": {
   "interpreter": {
    "hash": "c25269a4018224bb4e3cb6b79397037e31419b0dedc1b97e47175df2e08dbf7b"
   }
  }
 },
 "nbformat": 4,
 "nbformat_minor": 2
}
